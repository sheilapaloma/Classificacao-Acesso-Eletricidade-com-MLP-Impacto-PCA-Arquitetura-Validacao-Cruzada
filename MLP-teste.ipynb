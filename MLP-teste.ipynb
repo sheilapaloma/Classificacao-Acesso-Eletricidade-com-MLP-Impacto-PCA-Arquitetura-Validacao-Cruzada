{
 "cells": [
  {
   "cell_type": "code",
   "execution_count": null,
   "id": "bf94cac1",
   "metadata": {},
   "outputs": [
    {
     "name": "stdout",
     "output_type": "stream",
     "text": [
      "Fold 1 - Acurácia: 1.0000\n",
      "Fold 2 - Acurácia: 1.0000\n",
      "Fold 3 - Acurácia: 1.0000\n",
      "Fold 4 - Acurácia: 0.9333\n",
      "Fold 5 - Acurácia: 1.0000\n",
      "Fold 6 - Acurácia: 0.8667\n",
      "Fold 7 - Acurácia: 0.8667\n",
      "Fold 8 - Acurácia: 1.0000\n",
      "Fold 9 - Acurácia: 1.0000\n",
      "Fold 10 - Acurácia: 0.9333\n",
      "\n",
      "Média das Acurácias: 0.9600\n",
      "Desvio Padrão das Acurácias: 0.05333333333333332\n"
     ]
    }
   ],
   "source": [
    "from sklearn.datasets import load_iris\n",
    "from sklearn.model_selection import train_test_split, KFold\n",
    "from sklearn.preprocessing import StandardScaler\n",
    "from sklearn.neural_network import MLPClassifier\n",
    "from sklearn.metrics import accuracy_score, classification_report\n",
    "import numpy as np\n",
    "\n",
    "# 1. Carrega a base Iris\n",
    "iris = load_iris()\n",
    "X = iris.data       \n",
    "y = iris.target     \n",
    "\n",
    "k = KFold(n_splits=10, shuffle=True, random_state=42)\n",
    "\n",
    "accuracias = []\n",
    "fold = 1\n",
    "\n",
    "for train_index, test_index in k.split(X):\n",
    "    X_train, X_test = X[train_index], X[test_index]\n",
    "    y_train, y_test = y[train_index], y[test_index]\n",
    "\n",
    "    # Normaliza os dados\n",
    "    scaler = StandardScaler()\n",
    "    X_train = scaler.fit_transform(X_train)\n",
    "    X_test = scaler.transform(X_test)\n",
    "\n",
    "    # Cria e treina o modelo MLP\n",
    "    mlp = MLPClassifier(hidden_layer_sizes=(10,5), \n",
    "                        activation='relu',\n",
    "                        solver='adam', \n",
    "                        max_iter=1000,\n",
    "                        random_state=42)\n",
    "    mlp.fit(X_train, y_train)\n",
    "\n",
    "    # Faz previsões e avalia o modelo\n",
    "    y_pred = mlp.predict(X_test)\n",
    "    acc = accuracy_score(y_test, y_pred)\n",
    "    accuracias.append(acc)\n",
    "    \n",
    "    print(f\"Fold {fold} - Acurácia: {acc:.4f}\")\n",
    "    fold += 1\n",
    "\n",
    "print(f\"\\nMédia das Acurácias: {np.mean(accuracias):.4f}\")\n",
    "print(\"Desvio Padrão das Acurácias:\", np.std(accuracias))\n",
    "\n",
    "# (sem Kfold)\n",
    "# X_train, X_test, y_train, y_test = train_test_split(X, y, test_size=0.2, random_state=42)\n",
    "\n",
    "# # 5. Faz previsões e avalia o modelo (sem Kfold)\n",
    "# y_pred = mlp.predict(X_test)\n",
    "# print(\"Acurácia:\", accuracy_score(y_test, y_pred))\n",
    "# print(\"\\nRelatório de Classificação:\\n\", classification_report(y_test, y_pred))\n"
   ]
  }
 ],
 "metadata": {
  "kernelspec": {
   "display_name": "Python 3",
   "language": "python",
   "name": "python3"
  },
  "language_info": {
   "codemirror_mode": {
    "name": "ipython",
    "version": 3
   },
   "file_extension": ".py",
   "mimetype": "text/x-python",
   "name": "python",
   "nbconvert_exporter": "python",
   "pygments_lexer": "ipython3",
   "version": "3.12.3"
  }
 },
 "nbformat": 4,
 "nbformat_minor": 5
}
